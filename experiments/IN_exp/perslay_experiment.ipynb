{
 "cells": [
  {
   "cell_type": "code",
   "execution_count": null,
   "metadata": {},
   "outputs": [],
   "source": [
    "\n",
    "from data.IN_pwd import IN_pwd_list\n",
    "from methods.perslay_methods import best_perslay_experiment\n",
    "final_results, train_acc_list_layer, val_acc_list_layer = best_perslay_experiment(IN_pwd_list, neurite_type = \"all\", feature = \"radial_distances\")"
   ]
  },
  {
   "cell_type": "code",
   "execution_count": null,
   "metadata": {},
   "outputs": [],
   "source": [
    "import pickle\n",
    "\n",
    "# save dictionary to xgb_morpho_results.pkl file\n",
    "with open('../../results/IN_results/perslay_results.pkl', 'wb') as fp:\n",
    "    pickle.dump(final_results, fp)\n",
    "    print('dictionary saved successfully to file')"
   ]
  }
 ],
 "metadata": {
  "kernelspec": {
   "display_name": "pdm",
   "language": "python",
   "name": "python3"
  },
  "language_info": {
   "codemirror_mode": {
    "name": "ipython",
    "version": 3
   },
   "file_extension": ".py",
   "mimetype": "text/x-python",
   "name": "python",
   "nbconvert_exporter": "python",
   "pygments_lexer": "ipython3",
   "version": "3.10.11"
  }
 },
 "nbformat": 4,
 "nbformat_minor": 2
}
