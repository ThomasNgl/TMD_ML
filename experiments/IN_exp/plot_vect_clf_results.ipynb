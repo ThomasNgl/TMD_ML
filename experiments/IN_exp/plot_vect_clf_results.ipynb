{
 "cells": [
  {
   "cell_type": "code",
   "execution_count": null,
   "metadata": {},
   "outputs": [],
   "source": [
    "import pickle\n",
    "#store results\n",
    "\n",
    "with open('../../results/IN_results/pima_raf_results.pkl', 'rb') as f:\n",
    "    pima_raf_results = pickle.load(f)\n",
    "\n",
    "with open('../../results/IN_results/entc_raf_results.pkl', 'rb') as f:\n",
    "    entc_raf_results = pickle.load(f)\n",
    "\n",
    "with open('../../results/IN_results/land_raf_results.pkl', 'rb') as f:\n",
    "    land_raf_results = pickle.load(f)\n",
    "\n",
    "with open('../../results/IN_results/trop_lda_results.pkl', 'rb') as f:\n",
    "    trop_lda_results = pickle.load(f)\n",
    "\n",
    "with open('../../results/IN_results/lifc_raf_results.pkl', 'rb') as f:\n",
    "    lifc_raf_results = pickle.load(f)\n",
    "\n",
    "with open('../../results/IN_results/bd_xgb_results.pkl', 'rb') as f:\n",
    "    bd_xgb_results = pickle.load(f)\n",
    "\n",
    "with open('../../results/IN_results/wdpca_lda_results.pkl', 'rb') as f:\n",
    "    wdpca_lda_results = pickle.load(f)\n",
    "\n",
    "results_list = [bd_xgb_results, entc_raf_results, lifc_raf_results, land_raf_results, wdpca_lda_results, trop_lda_results, pima_raf_results]"
   ]
  },
  {
   "cell_type": "code",
   "execution_count": null,
   "metadata": {},
   "outputs": [],
   "source": [
    "\n",
    "from data.IN_pwd import IN_pwd_list\n",
    "import tmd\n",
    "\n",
    "nb_neurons = []\n",
    "for layer in IN_pwd_list.keys():\n",
    "    nb_neurons_layer = 0\n",
    "    for pwd_pop in IN_pwd_list[layer]:\n",
    "        pop = tmd.io.load_population(pwd_pop, use_morphio = True)\n",
    "        nb_neurons_layer += len(pop.neurons)\n",
    "    nb_neurons.append(nb_neurons_layer)\n"
   ]
  },
  {
   "cell_type": "code",
   "execution_count": null,
   "metadata": {},
   "outputs": [],
   "source": [
    "from methods.plot_methods import plot_model_layers\n",
    "import plotly.express as px\n",
    "\n",
    "plot_model_layers(results_list,  nb_samples_layer = nb_neurons, layer_names=[1,23,4,5,6], color_continuous_scale = px.colors.sequential.Rainbow,range_color=None, width = 750, height = 500, figure_name='INfigure2')\n"
   ]
  }
 ],
 "metadata": {
  "kernelspec": {
   "display_name": "pdm",
   "language": "python",
   "name": "python3"
  },
  "language_info": {
   "codemirror_mode": {
    "name": "ipython",
    "version": 3
   },
   "file_extension": ".py",
   "mimetype": "text/x-python",
   "name": "python",
   "nbconvert_exporter": "python",
   "pygments_lexer": "ipython3",
   "version": "3.10.11"
  }
 },
 "nbformat": 4,
 "nbformat_minor": 2
}
