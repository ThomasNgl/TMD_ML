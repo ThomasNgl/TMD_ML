{
 "cells": [
  {
   "cell_type": "code",
   "execution_count": null,
   "metadata": {},
   "outputs": [],
   "source": [
    "from data.IN_pwd import IN_pwd_list\n",
    "import numpy as np\n",
    "\n",
    "from methods.vect_clf_methods import vect_clf_experiment, dist_clf_experiment\n",
    "\n",
    "from methods.vect_methods import PI, entropy, landscape, tropical_coordinate_functions, lifespan_curve\n",
    "\n",
    "from sklearn.model_selection import ShuffleSplit\n",
    "\n",
    "from xgboost import XGBClassifier\n",
    "from sklearn.ensemble import RandomForestClassifier\n",
    "from sklearn.discriminant_analysis import LinearDiscriminantAnalysis\n",
    "\n",
    "import pickle\n"
   ]
  },
  {
   "cell_type": "code",
   "execution_count": null,
   "metadata": {},
   "outputs": [],
   "source": [
    "cross_val = ShuffleSplit(n_splits=50, test_size=.20, random_state=0)"
   ]
  },
  {
   "cell_type": "code",
   "execution_count": null,
   "metadata": {},
   "outputs": [],
   "source": [
    "pima_raf_results = {}\n",
    "for layer in IN_pwd_list.keys():\n",
    "    train_score, test_score, fit_time = vect_clf_experiment(IN_pwd_list[layer], \n",
    "                        PI, vect_params = [30, True, True, None, True],\n",
    "                        clf = RandomForestClassifier(max_depth =10),\n",
    "                        embedder = None,\n",
    "                        cv = cross_val,\n",
    "                        sorted = False,\n",
    "                        normalize_features = False, neurite_type='all', feature='radial_distances')\n",
    "    test_score_mean = np.mean(test_score, axis=0)\n",
    "    pima_raf_results['pima_raf_'+layer] = test_score_mean\n",
    "    \n",
    "# save dictionary to vect_clf_results.pkl file\n",
    "with open('../../results/IN_results/pima_raf_results.pkl', 'wb') as fp:\n",
    "    pickle.dump(pima_raf_results, fp)\n",
    "    print('dictionary saved successfully to file')\n",
    "print(pima_raf_results)"
   ]
  },
  {
   "cell_type": "code",
   "execution_count": null,
   "metadata": {},
   "outputs": [],
   "source": [
    "entc_raf_results = {}\n",
    "for layer in IN_pwd_list.keys():\n",
    "    train_score, test_score, fit_time = vect_clf_experiment(IN_pwd_list[layer], \n",
    "                        entropy, vect_params = [100, False],\n",
    "                        clf = RandomForestClassifier(max_depth =10),\n",
    "                        embedder = None,\n",
    "                        cv = cross_val,\n",
    "                        sorted = False,\n",
    "                        normalize_features = True, neurite_type='all', feature='radial_distances')\n",
    "    test_score_mean = np.mean(test_score, axis=0)\n",
    "    entc_raf_results['entc_raf_'+layer] = test_score_mean\n",
    "    \n",
    "# save dictionary to vect_clf_results.pkl file\n",
    "with open('../../results/IN_results/entc_raf_results.pkl', 'wb') as fp:\n",
    "    pickle.dump(entc_raf_results, fp)\n",
    "    print('dictionary saved successfully to file')\n",
    "print(entc_raf_results)"
   ]
  },
  {
   "cell_type": "code",
   "execution_count": null,
   "metadata": {},
   "outputs": [],
   "source": [
    "land_raf_results = {}\n",
    "for layer in IN_pwd_list.keys():\n",
    "    train_score, test_score, fit_time = vect_clf_experiment(IN_pwd_list[layer], \n",
    "                        landscape, vect_params = [20, 50],\n",
    "                        clf = RandomForestClassifier(max_depth =10),\n",
    "                        embedder = None,\n",
    "                        cv = cross_val,\n",
    "                        sorted = True,\n",
    "                        normalize_features = True, neurite_type='all', feature='radial_distances')\n",
    "    test_score_mean = np.mean(test_score, axis=0)\n",
    "    land_raf_results['land_raf_'+layer] = test_score_mean\n",
    "    \n",
    "# save dictionary to vect_clf_results.pkl file\n",
    "with open('../../results/IN_results/land_raf_results.pkl', 'wb') as fp:\n",
    "    pickle.dump(land_raf_results, fp)\n",
    "    print('dictionary saved successfully to file')\n",
    "print(land_raf_results)"
   ]
  },
  {
   "cell_type": "code",
   "execution_count": null,
   "metadata": {},
   "outputs": [],
   "source": [
    "trop_lda_results = {}\n",
    "for layer in IN_pwd_list.keys():\n",
    "    train_score, test_score, fit_time = vect_clf_experiment(IN_pwd_list[layer], \n",
    "                        tropical_coordinate_functions, vect_params = [7, 10],\n",
    "                        clf = LinearDiscriminantAnalysis(),\n",
    "                        embedder = None,\n",
    "                        cv = cross_val,\n",
    "                        sorted = False,\n",
    "                        normalize_features = True, neurite_type='all', feature='radial_distances')\n",
    "    test_score_mean = np.mean(test_score, axis=0)\n",
    "    trop_lda_results['trop_lda_'+layer] = test_score_mean\n",
    "    \n",
    "# save dictionary to vect_clf_results.pkl file\n",
    "with open('../../results/IN_results/trop_lda_results.pkl', 'wb') as fp:\n",
    "    pickle.dump(trop_lda_results, fp)\n",
    "    print('dictionary saved successfully to file')\n",
    "print(trop_lda_results)"
   ]
  },
  {
   "cell_type": "code",
   "execution_count": null,
   "metadata": {},
   "outputs": [],
   "source": [
    "lifc_raf_results = {}\n",
    "for layer in IN_pwd_list.keys():\n",
    "    train_score, test_score, fit_time = vect_clf_experiment(IN_pwd_list[layer], \n",
    "                        lifespan_curve, vect_params = [False, 100, False],\n",
    "                        clf = RandomForestClassifier(),\n",
    "                        embedder = None,\n",
    "                        cv = cross_val,\n",
    "                        sorted = False,\n",
    "                        normalize_features = True, neurite_type='all', feature='radial_distances')\n",
    "    test_score_mean = np.mean(test_score, axis=0)\n",
    "    lifc_raf_results['lifc_raf_'+layer] = test_score_mean\n",
    "    \n",
    "# save dictionary to vect_clf_results.pkl file\n",
    "with open('../../results/IN_results/lifc_raf_results.pkl', 'wb') as fp:\n",
    "    pickle.dump(lifc_raf_results, fp)\n",
    "    print('dictionary saved successfully to file')\n",
    "print(lifc_raf_results)"
   ]
  },
  {
   "cell_type": "code",
   "execution_count": null,
   "metadata": {},
   "outputs": [],
   "source": [
    "from gudhi import bottleneck_distance\n",
    "\n",
    "bd_xgb_results = {}\n",
    "for layer in IN_pwd_list.keys():\n",
    "    train_score, test_score = dist_clf_experiment(IN_pwd_list[layer],\n",
    "                                        distance_method=bottleneck_distance,\n",
    "                                        clf= XGBClassifier(max_depth =10),\n",
    "                                        nb_splits = 50, neurite_type='all', feature='radial_distances')\n",
    "    test_score_mean = np.mean(test_score, axis=0)\n",
    "    bd_xgb_results['bd_xgb_'+layer] = test_score_mean\n",
    "\n",
    "# save dictionary to vect_clf_results.pkl file\n",
    "with open('../../results/IN_results/bd_xgb_results.pkl', 'wb') as fp:\n",
    "    pickle.dump(bd_xgb_results, fp)\n",
    "    print('dictionary saved successfully to file')\n",
    "print(bd_xgb_results)"
   ]
  },
  {
   "cell_type": "code",
   "execution_count": null,
   "metadata": {},
   "outputs": [],
   "source": [
    "from tda_toolbox.diagram import wasserstein_distance\n",
    "from sklearn.decomposition import PCA\n",
    "\n",
    "wdpca_lda_results = {}\n",
    "for layer in IN_pwd_list.keys():\n",
    "    train_score, test_score = dist_clf_experiment(IN_pwd_list[layer],\n",
    "                                        distance_method=wasserstein_distance,\n",
    "                                        clf= LinearDiscriminantAnalysis(),\n",
    "                                        embedder= PCA(n_components = 10),\n",
    "                                        nb_splits = 50, neurite_type='all', feature='radial_distances')\n",
    "    test_score_mean = np.mean(test_score, axis=0)\n",
    "    wdpca_lda_results['wdpca_lda_'+layer] = test_score_mean\n",
    "\n",
    "# save dictionary to vect_clf_results.pkl file\n",
    "with open('../../results/IN_results/wdpca_lda_results.pkl', 'wb') as fp:\n",
    "    pickle.dump(wdpca_lda_results, fp)\n",
    "    print('dictionary saved successfully to file')\n",
    "print(wdpca_lda_results)"
   ]
  }
 ],
 "metadata": {
  "kernelspec": {
   "display_name": "pdm",
   "language": "python",
   "name": "python3"
  },
  "language_info": {
   "codemirror_mode": {
    "name": "ipython",
    "version": 3
   },
   "file_extension": ".py",
   "mimetype": "text/x-python",
   "name": "python",
   "nbconvert_exporter": "python",
   "pygments_lexer": "ipython3",
   "version": "3.10.11"
  }
 },
 "nbformat": 4,
 "nbformat_minor": 2
}
