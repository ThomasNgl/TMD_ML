{
 "cells": [
  {
   "cell_type": "code",
   "execution_count": null,
   "metadata": {},
   "outputs": [],
   "source": [
    "\n",
    "import numpy as np\n",
    "import pandas as pd\n",
    "import warnings\n",
    "import neurom as nm\n",
    "from neurom.apps import morph_stats\n",
    "from sklearn.model_selection import cross_validate, ShuffleSplit\n",
    "from xgboost import XGBClassifier\n",
    "import yaml\n",
    "\n",
    "# From the repo\n",
    "from data.IN_pwd import IN_pwd_list\n",
    "\n",
    "cv = ShuffleSplit(n_splits=50, test_size=.20, random_state=0)\n",
    "\n",
    "final_results = {}\n",
    "for layer in IN_pwd_list.keys():\n",
    "    dataset_list = []\n",
    "    i = 0\n",
    "    for population in IN_pwd_list[layer]:\n",
    "        neurons = nm.load_morphologies(population)\n",
    "        warnings.filterwarnings(\"ignore\", category=UserWarning)\n",
    "        with open('../data/morphometrics_config_file.yaml') as mcf:\n",
    "            morphometrics_config = yaml.safe_load(mcf)\n",
    "        df_metrics = morph_stats.extract_dataframe(morphs = neurons, config = morphometrics_config)\n",
    "        df_metrics.iloc[:,0] = i\n",
    "        i += 1\n",
    "        dataset_list.append(df_metrics)\n",
    "    dataset = pd.concat(dataset_list)\n",
    "    data_nonan = dataset.loc[:, dataset.isna().sum() == 0]\n",
    "    data = np.array(data_nonan)\n",
    "    np.random.shuffle(data)\n",
    "    X, y = data[:,1:], list(data[:,0])\n",
    "    score = cross_validate(XGBClassifier(), X, y, cv = cv, return_train_score = True)\n",
    "    test_score = score['test_score']\n",
    "    #train_score = score['train_score']\n",
    "    #fit_time = np.mean(score['fit_time'])\n",
    "    final_results['xgb_morpho_'+ layer] = np.mean(test_score)"
   ]
  },
  {
   "cell_type": "code",
   "execution_count": null,
   "metadata": {},
   "outputs": [],
   "source": [
    "import pickle\n",
    "\n",
    "# save dictionary to xgb_morpho_results.pkl file\n",
    "with open('../results/IN_results/xgb_morpho_results.pkl', 'wb') as fp:\n",
    "    pickle.dump(final_results, fp)\n",
    "    print('dictionary saved successfully to file')"
   ]
  }
 ],
 "metadata": {
  "kernelspec": {
   "display_name": "xgb",
   "language": "python",
   "name": "python3"
  },
  "language_info": {
   "codemirror_mode": {
    "name": "ipython",
    "version": 3
   },
   "file_extension": ".py",
   "mimetype": "text/x-python",
   "name": "python",
   "nbconvert_exporter": "python",
   "pygments_lexer": "ipython3",
   "version": "3.10.11"
  }
 },
 "nbformat": 4,
 "nbformat_minor": 2
}
