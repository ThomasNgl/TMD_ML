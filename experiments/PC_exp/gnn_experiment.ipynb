{
 "cells": [
  {
   "cell_type": "code",
   "execution_count": null,
   "metadata": {},
   "outputs": [],
   "source": [
    "import torch\n",
    "from tqdm import tqdm\n",
    "import numpy as np"
   ]
  },
  {
   "cell_type": "code",
   "execution_count": null,
   "metadata": {},
   "outputs": [],
   "source": [
    "%cd /Users/thomasnegrello/Documents/Lida/MasterThesis/src_morphoclass/\n",
    "import morphoclass as mc \n",
    "from morphoclass.data import MorphologyDataset\n",
    "from morphoclass.data.morphology_data_loader import MorphologyDataLoader\n",
    "from morphoclass.training.trainers import Trainer\n",
    "from morphoclass.models import ManNet\n",
    "\n",
    "\n",
    "pre_transform = mc.transforms.Compose([\n",
    "    mc.transforms.ExtractTMDNeurites(neurite_type='apical'),\n",
    "    mc.transforms.BranchingOnlyNeurites(),\n",
    "    mc.transforms.ExtractEdgeIndex(),\n",
    "\n",
    "    #Ligne à commenter\n",
    "    mc.transforms.ExtractRadialDistances()\n",
    "])\n",
    "\n",
    "path = 'data/Reconstructed_PCs'\n",
    "layers_list = ['L2', 'L3', 'L4', 'L5', 'L6']"
   ]
  },
  {
   "cell_type": "code",
   "execution_count": null,
   "metadata": {},
   "outputs": [],
   "source": [
    "final_results = {}\n",
    "# A list that contains the lists (one for each layer) that contains the accuracies for each fold\n",
    "# One for the training and one for the validation\n",
    "train_acc_list_layer = []\n",
    "val_acc_list_layer = []\n",
    "# For each layer of the cortex\n",
    "for layer in layers_list:\n",
    "    # Get the dataset that contains the graph of the neurons of the layer \n",
    "    dataset = MorphologyDataset.from_structured_dir(path, layer=layer, pre_transform=pre_transform)\n",
    "    mc.utils.make_torch_deterministic()\n",
    "    mc.training.reset_seeds(numpy_seed=0, torch_seed=0)\n",
    "    #STRATIFIED\n",
    "    # https://scikit-learn.org/stable/modules/generated/sklearn.model_selection.StratifiedShuffleSplit.html\n",
    "    \n",
    "    n_splits = 50\n",
    "    # 80 % of the samples in dataset are use for training\n",
    "    max_index_train = int(0.8*len(dataset))\n",
    "    \n",
    "    # A list that contains the accuracies for each split\n",
    "    # One for the training and one for the validation\n",
    "    train_acc_list = []\n",
    "    val_acc_list = []\n",
    "    for _ in range(n_splits):\n",
    "        # Get the number of m-types\n",
    "        nb_classes = max(dataset.ys)+1\n",
    "        \n",
    "        # Initialize the Trainer of the gnn model \n",
    "        model = ManNet(n_classes=nb_classes)\n",
    "        optimizer = torch.optim.Adam(model.parameters(), lr=5e-3)\n",
    "        man_net_trainer = Trainer(model, dataset, optimizer, MorphologyDataLoader)\n",
    "        \n",
    "        # Get the samples used for training and the samples used for validation\n",
    "        # Shuffle and split\n",
    "        indices = torch.randperm(len(dataset))\n",
    "        train_idx = indices[:max_index_train]\n",
    "        val_idx = indices[max_index_train:]\n",
    "\n",
    "        # Fit/Train the model on the training set and evaluate with validation set\n",
    "        history = man_net_trainer.train(batch_size = 16, train_idx=train_idx, val_idx = val_idx, n_epochs=75, progress_bar=tqdm)\n",
    "        \n",
    "        train_acc_list.append(history['train_acc'])\n",
    "        val_acc_list.append(history['val_acc'])\n",
    "    \n",
    "    # Get the mean accuracy of the gnn for each layer \n",
    "    val_score_mean = np.mean(val_acc_list, axis=0)\n",
    "    # Validation score at the last epoch\n",
    "    val_score = val_score_mean[-1]\n",
    "    final_results['gnn_' + layer] = val_score\n",
    "\n",
    "    train_acc_list_layer.append(train_acc_list)\n",
    "    val_acc_list_layer.append(val_acc_list)"
   ]
  },
  {
   "cell_type": "code",
   "execution_count": null,
   "metadata": {},
   "outputs": [],
   "source": [
    "from methods.plot_methods import plot_train_val\n",
    "\n",
    "for l in range(len(layers_list)):\n",
    "    plot_train_val(train_acc_list_layer[l], val_acc_list_layer[l])"
   ]
  },
  {
   "cell_type": "code",
   "execution_count": null,
   "metadata": {},
   "outputs": [],
   "source": [
    "import pickle\n",
    "# save dictionary to last_gnn_results.pkl \n",
    "with open('../../results/PC_results/gnn_results.pkl', 'wb') as fp:\n",
    "    pickle.dump(final_results, fp)\n",
    "    print('dictionary saved successfully to file')\n"
   ]
  }
 ],
 "metadata": {
  "kernelspec": {
   "display_name": "morpho",
   "language": "python",
   "name": "python3"
  },
  "language_info": {
   "codemirror_mode": {
    "name": "ipython",
    "version": 3
   },
   "file_extension": ".py",
   "mimetype": "text/x-python",
   "name": "python",
   "nbconvert_exporter": "python",
   "pygments_lexer": "ipython3",
   "version": "3.8.16"
  }
 },
 "nbformat": 4,
 "nbformat_minor": 2
}
