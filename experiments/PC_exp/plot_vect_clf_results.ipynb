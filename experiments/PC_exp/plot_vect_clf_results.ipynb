{
 "cells": [
  {
   "cell_type": "code",
   "execution_count": null,
   "metadata": {},
   "outputs": [],
   "source": [
    "import pickle\n",
    "#store results\n",
    "with open('../../results/PC_results/pima_raf_results.pkl', 'rb') as f:\n",
    "    pima_raf_results = pickle.load(f)\n",
    "\n",
    "with open('../../results/PC_results/entc_raf_results.pkl', 'rb') as f:\n",
    "    entc_raf_results = pickle.load(f)\n",
    "\n",
    "with open('../../results/PC_results/land_raf_results.pkl', 'rb') as f:\n",
    "    land_raf_results = pickle.load(f)\n",
    "\n",
    "with open('../../results/PC_results/trop_lda_results.pkl', 'rb') as f:\n",
    "    trop_lda_results = pickle.load(f)\n",
    "\n",
    "with open('../../results/PC_results/lifc_raf_results.pkl', 'rb') as f:\n",
    "    lifc_raf_results = pickle.load(f)\n",
    "\n",
    "with open('../../results/PC_results/bd_xgb_results.pkl', 'rb') as f:\n",
    "    bd_xgb_results = pickle.load(f)\n",
    "\n",
    "with open('../../results/PC_results/wdpca_lda_results.pkl', 'rb') as f:\n",
    "    wdpca_lda_results = pickle.load(f)\n",
    "\n",
    "results_list = [bd_xgb_results, trop_lda_results, wdpca_lda_results, pima_raf_results, entc_raf_results, land_raf_results, lifc_raf_results]"
   ]
  },
  {
   "cell_type": "code",
   "execution_count": null,
   "metadata": {},
   "outputs": [],
   "source": [
    "\n",
    "from data.PC_pwd import PC_pwd_list\n",
    "import tmd\n",
    "\n",
    "nb_neurons = []\n",
    "for layer in PC_pwd_list.keys():\n",
    "    nb_neurons_layer = 0\n",
    "    for pwd_pop in PC_pwd_list[layer]:\n",
    "        pop = tmd.io.load_population(pwd_pop, use_morphio = True)\n",
    "        nb_neurons_layer += len(pop.neurons)\n",
    "    nb_neurons.append(nb_neurons_layer)"
   ]
  },
  {
   "cell_type": "code",
   "execution_count": null,
   "metadata": {},
   "outputs": [],
   "source": [
    "\n",
    "from methods.plot_methods import plot_model_layers\n",
    "import plotly.express as px\n",
    "\n",
    "%cd TMD_ML/results\n",
    "\n",
    "plot_model_layers(results_list, nb_neurons, color_continuous_scale = px.colors.sequential.Rainbow,range_color=None, width = 750, height = 500, figure_name='PCfigure2')\n"
   ]
  }
 ],
 "metadata": {
  "kernelspec": {
   "display_name": "pdm",
   "language": "python",
   "name": "python3"
  },
  "language_info": {
   "codemirror_mode": {
    "name": "ipython",
    "version": 3
   },
   "file_extension": ".py",
   "mimetype": "text/x-python",
   "name": "python",
   "nbconvert_exporter": "python",
   "pygments_lexer": "ipython3",
   "version": "3.10.11"
  }
 },
 "nbformat": 4,
 "nbformat_minor": 2
}
