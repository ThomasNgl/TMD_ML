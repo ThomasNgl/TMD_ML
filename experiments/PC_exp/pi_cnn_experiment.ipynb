{
 "cells": [
  {
   "cell_type": "code",
   "execution_count": null,
   "metadata": {},
   "outputs": [],
   "source": [
    "from data.PC_pwd import PC_pwd_list\n",
    "from methods.pi_cnn_methods import cnn_experiment\n",
    "final_results, train_acc_list_layer, val_acc_list_layer  = cnn_experiment(PC_pwd_list)"
   ]
  },
  {
   "cell_type": "code",
   "execution_count": null,
   "metadata": {},
   "outputs": [],
   "source": [
    "import pickle\n",
    "# save dictionary to vect_clf_results.pkl file\n",
    "with open('../results/cnn_results.pkl', 'wb') as fp:\n",
    "    pickle.dump(final_results, fp)\n",
    "    print('dictionary saved successfully to file')"
   ]
  }
 ],
 "metadata": {
  "kernelspec": {
   "display_name": "pdm",
   "language": "python",
   "name": "python3"
  },
  "language_info": {
   "codemirror_mode": {
    "name": "ipython",
    "version": 3
   },
   "file_extension": ".py",
   "mimetype": "text/x-python",
   "name": "python",
   "nbconvert_exporter": "python",
   "pygments_lexer": "ipython3",
   "version": "3.10.11"
  }
 },
 "nbformat": 4,
 "nbformat_minor": 2
}
