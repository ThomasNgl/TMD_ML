{
 "cells": [
  {
   "cell_type": "code",
   "execution_count": null,
   "metadata": {},
   "outputs": [],
   "source": [
    "import pickle\n",
    "\n",
    "#store results\n",
    "with open('../../results/PC_results/gnn_results.pkl', 'rb') as f:\n",
    "    gnn_results = pickle.load(f)\n",
    "\n",
    "with open('../../results/PC_results/perslay_results.pkl', 'rb') as f:\n",
    "    perslay_results = pickle.load(f)\n",
    "\n",
    "with open('../../results/PC_results/xgb_morpho_results.pkl', 'rb') as f:\n",
    "    xgb_morpho_results = pickle.load(f)\n",
    "\n",
    "with open('../../results/PC_results/cnn_results.pkl', 'rb') as f:\n",
    "    pi_cnn_results = pickle.load(f)\n",
    "\n",
    "results_list = [gnn_results, xgb_morpho_results, perslay_results, pi_cnn_results]"
   ]
  },
  {
   "cell_type": "code",
   "execution_count": null,
   "metadata": {},
   "outputs": [],
   "source": [
    "\n",
    "from data.PC_pwd import PC_pwd_list\n",
    "import tmd\n",
    "\n",
    "nb_neurons = []\n",
    "for layer in PC_pwd_list.keys():\n",
    "    nb_neurons_layer = 0\n",
    "    for pwd_pop in PC_pwd_list[layer]:\n",
    "        pop = tmd.io.load_population(pwd_pop, use_morphio = True)\n",
    "        nb_neurons_layer += len(pop.neurons)\n",
    "    nb_neurons.append(nb_neurons_layer)\n"
   ]
  },
  {
   "cell_type": "code",
   "execution_count": null,
   "metadata": {},
   "outputs": [],
   "source": [
    "\n",
    "from methods.plot_methods import plot_model_layers\n",
    "import plotly.express as px\n",
    "\n",
    "%cd TMD_ML/results\n",
    "\n",
    "plot_model_layers(results_list, nb_neurons, color_continuous_scale = px.colors.sequential.Rainbow, range_color=None, width = 750, height = 300, figure_name='PCfigure1')\n"
   ]
  }
 ],
 "metadata": {
  "kernelspec": {
   "display_name": "pdm",
   "language": "python",
   "name": "python3"
  },
  "language_info": {
   "codemirror_mode": {
    "name": "ipython",
    "version": 3
   },
   "file_extension": ".py",
   "mimetype": "text/x-python",
   "name": "python",
   "nbconvert_exporter": "python",
   "pygments_lexer": "ipython3",
   "version": "3.10.11"
  }
 },
 "nbformat": 4,
 "nbformat_minor": 2
}
