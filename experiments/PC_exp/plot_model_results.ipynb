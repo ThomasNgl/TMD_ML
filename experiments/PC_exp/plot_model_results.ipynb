{
 "cells": [
  {
   "cell_type": "code",
   "execution_count": null,
   "metadata": {},
   "outputs": [],
   "source": [
    "import pickle\n",
    "#store results\n",
    "with open('../../results/PC_results/gnn_results.pkl', 'rb') as f:\n",
    "    gnn_results = pickle.load(f)\n",
    "\n",
    "with open('../../results/PC_results/perslay_results.pkl', 'rb') as f:\n",
    "    perslay_results = pickle.load(f)\n",
    "\n",
    "with open('../../results/PC_results/xgb_morpho_results.pkl', 'rb') as f:\n",
    "    xgb_morpho_results = pickle.load(f)\n",
    "\n",
    "with open('../../results/PC_results/cnn_results.pkl', 'rb') as f:\n",
    "    pi_cnn_results = pickle.load(f)\n",
    "\n",
    "results_list = [gnn_results, xgb_morpho_results, perslay_results, pi_cnn_results]"
   ]
  },
  {
   "cell_type": "code",
   "execution_count": null,
   "metadata": {},
   "outputs": [],
   "source": [
    "from methods.plot_methods import plot_model_layers\n",
    "import plotly.express as px\n",
    "\n",
    "plot_model_layers(results_list, color_continuous_scale = px.colors.sequential.Rainbow, range_color=None, width = 750, height = 300, figure_name='PCfigure1')\n"
   ]
  }
 ],
 "metadata": {
  "kernelspec": {
   "display_name": "pdm",
   "language": "python",
   "name": "python3"
  },
  "language_info": {
   "codemirror_mode": {
    "name": "ipython",
    "version": 3
   },
   "file_extension": ".py",
   "mimetype": "text/x-python",
   "name": "python",
   "nbconvert_exporter": "python",
   "pygments_lexer": "ipython3",
   "version": "3.10.11"
  }
 },
 "nbformat": 4,
 "nbformat_minor": 2
}
